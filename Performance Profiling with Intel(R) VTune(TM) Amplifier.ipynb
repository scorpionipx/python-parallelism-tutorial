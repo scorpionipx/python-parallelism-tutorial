{
 "cells": [
  {
   "cell_type": "markdown",
   "metadata": {},
   "source": [
    "# Performance Profiling with Intel(R) VTune(TM) Amplifier"
   ]
  },
  {
   "cell_type": "code",
   "execution_count": 1,
   "metadata": {},
   "outputs": [
    {
     "name": "stdout",
     "output_type": "stream",
     "text": [
      "--- Simple multithreaded matrix multiplication ---\n",
      "segment= 90\n",
      "threads num= 4\n",
      "Matrix size n x m 360 360\n",
      "Elapsed time =  54.6752815246582\n",
      "--- BLAS multithreaded matrix multiplication ---\n",
      "numpy version: intel\n",
      "Matrix size n x m 360 360\n",
      "Elapsed time =  0.06852483749389648\n"
     ]
    }
   ],
   "source": [
    "#!/usr/bin/python\n",
    "# -*- coding: utf-8 -*-\n",
    "\n",
    "import multiprocessing, numpy, ctypes, os\n",
    "import numpy.random as rnd\n",
    "import time\n",
    "\n",
    "try:\n",
    "    import numpy.random_intel as rnd\n",
    "    numpy_ver=\"intel\"\n",
    "except:\n",
    "    import numpy.random as rnd\n",
    "    numpy_ver=\"std\"\n",
    "\n",
    "def multiply(start):\n",
    "    global A, B, shm_arr, segment\n",
    "    arr = numpy.frombuffer(shm_arr.get_obj(), dtype=ctypes.c_float)\n",
    "    C = arr.reshape((n,n))\n",
    "    for i in range(start,start+segment):\n",
    "        for k in range(m):\n",
    "            for j in range(m):\n",
    "                C[i][j] += A[i][k] * B[k][j]\n",
    "\n",
    "    #print (multiprocessing.current_process().name)\n",
    "\n",
    "def parallelMatrixProduct(A, B, threadsNum):\n",
    "    pool = multiprocessing.Pool(threadsNum)\n",
    "    pool.map(multiply, range(0,n,segment))\n",
    "    arr = numpy.frombuffer(shm_arr.get_obj(), dtype=ctypes.c_float)\n",
    "    tmp =  arr.reshape((n,n))\n",
    "    return tmp\n",
    "\n",
    "\n",
    "def blasMatrixProduct(A, B):\n",
    "    return numpy.dot(A, B)\n",
    "\n",
    "if __name__ == '__main__':\n",
    "    A = rnd.normal(size=(360, 360))\n",
    "    B = rnd.normal(size=(360, 360))\n",
    "    \n",
    "    # number of rows\n",
    "    n = len(A)\n",
    "    # number of columns\n",
    "    m = len(B[0])\n",
    "    \n",
    "    #arranging work distribution between threads\n",
    "    threadsNum = multiprocessing.cpu_count()\n",
    "    segment = int(n / threadsNum)\n",
    "    if segment < 1:\n",
    "        segment = 1\n",
    "\n",
    "    start_time = time.time()\n",
    "    #allocating shred memory for multiprocess access\n",
    "    shm_arr = multiprocessing.Array(ctypes.c_float, n*n)\n",
    "    C = parallelMatrixProduct(A, B, threadsNum)\n",
    "    elapsed_time = time.time() - start_time\n",
    "    print (\"--- Simple multithreaded matrix multiplication ---\")\n",
    "    print (\"segment=\", segment)\n",
    "    print (\"threads num=\", threadsNum)\n",
    "    print (\"Matrix size n x m\", n, m)\n",
    "    print (\"Elapsed time = \", elapsed_time)\n",
    "    # print(C)\n",
    "    \n",
    "    start_time = time.time()\n",
    "    C = blasMatrixProduct(A, B)\n",
    "    elapsed_time = time.time() - start_time    \n",
    "    print (\"--- BLAS multithreaded matrix multiplication ---\")\n",
    "    print (\"numpy version:\", numpy_ver)\n",
    "    print (\"Matrix size n x m\", n, m)\n",
    "    print (\"Elapsed time = \", elapsed_time)\n",
    "    # print(C)\n",
    "    \n",
    "    \n",
    "\n",
    "# os.system(\"taskset -p 0xff %d\" % os.getpid())\n"
   ]
  }
 ],
 "metadata": {
  "kernelspec": {
   "display_name": "EP18",
   "language": "python",
   "name": "ep18"
  },
  "language_info": {
   "codemirror_mode": {
    "name": "ipython",
    "version": 3
   },
   "file_extension": ".py",
   "mimetype": "text/x-python",
   "name": "python",
   "nbconvert_exporter": "python",
   "pygments_lexer": "ipython3",
   "version": "3.6.3"
  }
 },
 "nbformat": 4,
 "nbformat_minor": 2
}
