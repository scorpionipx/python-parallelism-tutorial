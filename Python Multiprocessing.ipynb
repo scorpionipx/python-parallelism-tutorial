{
 "cells": [
  {
   "cell_type": "markdown",
   "metadata": {},
   "source": [
    "## Python Multiprocessing"
   ]
  },
  {
   "cell_type": "markdown",
   "metadata": {},
   "source": [
    "**multiprocessing** is a package that supports spawning processes using an API similar to the threading module. The **multiprocessing** package offers both local and remote concurrency, effectively side-stepping the * *Global Interpreter Lock* * by using subprocesses instead of threads. Due to this, the multiprocessing module allows the programmer to fully leverage multiple processors on a given machine."
   ]
  },
  {
   "cell_type": "markdown",
   "metadata": {},
   "source": [
    "We will create two processes:\n",
    "- First thread to calculate the square of numbers\n",
    "- The second to calculate the cube of numbers"
   ]
  },
  {
   "cell_type": "markdown",
   "metadata": {},
   "source": [
    "Official documentation: https://docs.python.org/2/library/multiprocessing.html"
   ]
  },
  {
   "cell_type": "markdown",
   "metadata": {},
   "source": [
    "Quick intro tips: \n",
    "```python\n",
    "import multiprocessing\n",
    "my_process = multiprocessing.Process(target=your_method, args=arguments)\n",
    " \n",
    "my_process.start() # Start the process’s activity\n",
    "my_process.join() # Block the calling thread until the process whose join() method is called terminates\n",
    "```"
   ]
  },
  {
   "cell_type": "markdown",
   "metadata": {},
   "source": [
    "A process can be joined multiple times. Can a process join itself?"
   ]
  },
  {
   "cell_type": "markdown",
   "metadata": {},
   "source": [
    "Let's have a look at simple example:\n",
    "\n",
    "We create two functions `calc_square` and `calc_cube`. The goal is to run them in parallel."
   ]
  },
  {
   "cell_type": "code",
   "execution_count": null,
   "metadata": {},
   "outputs": [],
   "source": []
  },
  {
   "cell_type": "code",
   "execution_count": 21,
   "metadata": {},
   "outputs": [
    {
     "name": "stdout",
     "output_type": "stream",
     "text": [
      "square 4\n",
      "square 9\n",
      "square 64\n",
      "square 36\n",
      "square 49\n",
      "square 64\n",
      "cube 8\n",
      "cube 27\n",
      "cube 512\n",
      "cube 216\n",
      "cube 343\n",
      "cube 512\n",
      "Serial processing took: 12.020840883255005\n"
     ]
    }
   ],
   "source": [
    "import time\n",
    "import multiprocessing\n",
    "\n",
    "def calc_square(numbers):\n",
    "    for n in numbers:\n",
    "        time.sleep(1)\n",
    "        print('square ' + str(n*n))\n",
    "\n",
    "def calc_cube(numbers):\n",
    "    for n in numbers:\n",
    "        time.sleep(1)\n",
    "        print('cube ' + str(n*n*n))\n",
    "\n",
    "\n",
    "if __name__ == \"__main__\":\n",
    "    arr = [2,3,8,6,7,8]\n",
    "    t1 = time.time()\n",
    "    calc_square(arr)\n",
    "    calc_cube(arr)\n",
    "    \n",
    "    print(\"Serial processing took:\", time.time()-t1)"
   ]
  },
  {
   "cell_type": "code",
   "execution_count": 22,
   "metadata": {},
   "outputs": [
    {
     "name": "stdout",
     "output_type": "stream",
     "text": [
      "square 4\n",
      "cube 8\n",
      "square 9\n",
      "cube 27\n",
      "square 64\n",
      "cube 512\n",
      "square 36\n",
      "cube 216\n",
      "square 49\n",
      "cube 343\n",
      "square 64\n",
      "cube 512\n",
      "Multiprocessing took: 6.057564735412598\n"
     ]
    }
   ],
   "source": [
    "import time\n",
    "import multiprocessing\n",
    "\n",
    "def calc_square(numbers):\n",
    "    for n in numbers:\n",
    "        time.sleep(1)\n",
    "        print('square ' + str(n*n))\n",
    "\n",
    "def calc_cube(numbers):\n",
    "    for n in numbers:\n",
    "        time.sleep(1)\n",
    "        print('cube ' + str(n*n*n))\n",
    "\n",
    "if __name__ == \"__main__\":\n",
    "    arr = [2,3,8,6,7,8]\n",
    "    t1 = time.time()\n",
    "    # Implement your code here\n",
    "\n",
    "    print(\"Multiprocessing took:\", time.time()-t1)"
   ]
  },
  {
   "cell_type": "markdown",
   "metadata": {},
   "source": [
    "## Multiprocessing Pools\n",
    "The `multiprocessing` module also introduces APIs which do not have analogs in the threading module. A prime example of this is the Pool object which offers a convenient means of parallelizing the execution of a function across multiple input values, distributing the input data across processes (data parallelism). "
   ]
  },
  {
   "cell_type": "markdown",
   "metadata": {},
   "source": [
    "Basic idea:\n",
    "- Create an object of type pool, i.e p = Pool()\n",
    "- Map a target function and data to the pool of processes\n",
    "- p.close()\n",
    "- p.join() # Block until all items in the queue have been gotten and processed."
   ]
  },
  {
   "cell_type": "code",
   "execution_count": 5,
   "metadata": {},
   "outputs": [
    {
     "name": "stdout",
     "output_type": "stream",
     "text": [
      "Serial processing took: 0.7681002616882324\n",
      "Pool took: 0.32392454147338867\n"
     ]
    }
   ],
   "source": [
    "from multiprocessing import Pool\n",
    "import time\n",
    "\n",
    "\n",
    "def do_work(n):\n",
    "    sum = 0\n",
    "    for x in range (1000):\n",
    "        sum += x*x\n",
    "    return sum\n",
    "\n",
    "if __name__ == \"__main__\":\n",
    "    \n",
    "    n = 1000 # number of elements\n",
    "    \n",
    "    t1 = time.time()\n",
    "    result = []\n",
    "    for i in range (10000):\n",
    "        result.append(do_work(n))\n",
    "    \n",
    "    print (\"Serial processing took:\", time.time() - t1)\n",
    "    \n",
    "       \n",
    "    t2 = time.time()\n",
    "    #Implement multiprocess pool. Don't forget the good practice of closing and joining the processes.\n",
    "    \n",
    "    \n",
    "    print (\"Pool took:\", time.time()-t2)"
   ]
  },
  {
   "cell_type": "markdown",
   "metadata": {},
   "source": [
    "---"
   ]
  },
  {
   "cell_type": "markdown",
   "metadata": {},
   "source": [
    "Now, what about variables within a process?"
   ]
  },
  {
   "cell_type": "code",
   "execution_count": 25,
   "metadata": {},
   "outputs": [
    {
     "name": "stdout",
     "output_type": "stream",
     "text": [
      "square 4\n",
      "square 9\n",
      "square 64\n",
      "square 36\n",
      "square 49\n",
      "square 64\n",
      "result: []\n",
      "square 4\n",
      "square 9\n",
      "square 64\n",
      "square 36\n",
      "square 49\n",
      "square 64\n",
      "results2: [4, 9, 64, 36, 49, 64]\n",
      "Multiprocessing took: 0.031952619552612305\n"
     ]
    }
   ],
   "source": [
    "import multiprocessing\n",
    "\n",
    "square_result = []\n",
    "def calc_square(numbers):\n",
    "    global square_result\n",
    "    for n in numbers:\n",
    "        print('square ' + str(n*n))\n",
    "        square_result.append(n*n)\n",
    "\n",
    "if __name__ == \"__main__\":\n",
    "    arr = [2,3,8,6,7,8]\n",
    "    t1 = time.time()\n",
    "    p1 = multiprocessing.Process(target=calc_square, args=(arr,))\n",
    "\n",
    "    p1.start()\n",
    "\n",
    "    p1.join()\n",
    "    \n",
    "    print(\"result:\", str(square_result))\n",
    "    calc_square(arr)\n",
    "    print(\"results2:\", str(square_result))\n",
    "\n"
   ]
  },
  {
   "cell_type": "markdown",
   "metadata": {},
   "source": [
    "---"
   ]
  },
  {
   "cell_type": "markdown",
   "metadata": {},
   "source": [
    "Credits and sources:\n",
    "- codebasics: github.com/codebasics\n",
    "- Tutorialspoint: https://www.tutorialspoint.com/python/python_multithreading.htm\n",
    "\n",
    "\n",
    "Resources:\n",
    "- Global Interpreter Lock: https://realpython.com/python-gil/"
   ]
  }
 ],
 "metadata": {
  "kernelspec": {
   "display_name": "EP18",
   "language": "python",
   "name": "ep18"
  },
  "language_info": {
   "codemirror_mode": {
    "name": "ipython",
    "version": 3
   },
   "file_extension": ".py",
   "mimetype": "text/x-python",
   "name": "python",
   "nbconvert_exporter": "python",
   "pygments_lexer": "ipython3",
   "version": "3.6.3"
  }
 },
 "nbformat": 4,
 "nbformat_minor": 2
}
